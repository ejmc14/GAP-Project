{
 "cells": [
  {
   "cell_type": "markdown",
   "metadata": {},
   "source": [
    "# Chicago Illinois Inspections"
   ]
  },
  {
   "cell_type": "markdown",
   "metadata": {},
   "source": [
    "Inciamos cargando los datos respectivos y librerias que nos serán de utilidad en el análisis que se llevara a cabo."
   ]
  },
  {
   "cell_type": "code",
   "execution_count": 108,
   "metadata": {},
   "outputs": [
    {
     "data": {
      "text/html": [
       "<div>\n",
       "<style scoped>\n",
       "    .dataframe tbody tr th:only-of-type {\n",
       "        vertical-align: middle;\n",
       "    }\n",
       "\n",
       "    .dataframe tbody tr th {\n",
       "        vertical-align: top;\n",
       "    }\n",
       "\n",
       "    .dataframe thead th {\n",
       "        text-align: right;\n",
       "    }\n",
       "</style>\n",
       "<table border=\"1\" class=\"dataframe\">\n",
       "  <thead>\n",
       "    <tr style=\"text-align: right;\">\n",
       "      <th></th>\n",
       "      <th>inspection_id</th>\n",
       "      <th>aka_name</th>\n",
       "      <th>dba_name</th>\n",
       "      <th>license_number</th>\n",
       "      <th>facility_type</th>\n",
       "      <th>risk</th>\n",
       "      <th>address</th>\n",
       "      <th>state</th>\n",
       "      <th>city</th>\n",
       "      <th>zip</th>\n",
       "      <th>inspection_date</th>\n",
       "      <th>inspection_type</th>\n",
       "      <th>results</th>\n",
       "      <th>violations</th>\n",
       "      <th>latitude</th>\n",
       "      <th>longitude</th>\n",
       "      <th>location</th>\n",
       "    </tr>\n",
       "  </thead>\n",
       "  <tbody>\n",
       "    <tr>\n",
       "      <th>0</th>\n",
       "      <td>1151931</td>\n",
       "      <td>BZ MART</td>\n",
       "      <td>BZ MART</td>\n",
       "      <td>2304387.0</td>\n",
       "      <td>Grocery Store</td>\n",
       "      <td>Risk 3 (Low)</td>\n",
       "      <td>4701 S WESTERN BLVD</td>\n",
       "      <td>IL</td>\n",
       "      <td>CHICAGO</td>\n",
       "      <td>60609.0</td>\n",
       "      <td>2014-01-17T00:00:00</td>\n",
       "      <td>License Re-Inspection</td>\n",
       "      <td>Pass</td>\n",
       "      <td>35. WALLS, CEILINGS, ATTACHED EQUIPMENT CONSTR...</td>\n",
       "      <td>41.808373</td>\n",
       "      <td>-87.683726</td>\n",
       "      <td>(41.8083731277443, -87.68372600471193)</td>\n",
       "    </tr>\n",
       "    <tr>\n",
       "      <th>1</th>\n",
       "      <td>1395530</td>\n",
       "      <td>JIMMY JOHN'S</td>\n",
       "      <td>JIMMY JOHN'S STORE # 722</td>\n",
       "      <td>2279570.0</td>\n",
       "      <td>Restaurant</td>\n",
       "      <td>Risk 1 (High)</td>\n",
       "      <td>1519 E 55TH ST</td>\n",
       "      <td>IL</td>\n",
       "      <td>CHICAGO</td>\n",
       "      <td>60615.0</td>\n",
       "      <td>2014-01-16T00:00:00</td>\n",
       "      <td>Short Form Complaint</td>\n",
       "      <td>Pass</td>\n",
       "      <td>NaN</td>\n",
       "      <td>41.795083</td>\n",
       "      <td>-87.588313</td>\n",
       "      <td>(41.795082532364255, -87.58831293902966)</td>\n",
       "    </tr>\n",
       "    <tr>\n",
       "      <th>2</th>\n",
       "      <td>1395529</td>\n",
       "      <td>SUBWAY</td>\n",
       "      <td>SUBWAY</td>\n",
       "      <td>2074313.0</td>\n",
       "      <td>Restaurant</td>\n",
       "      <td>Risk 1 (High)</td>\n",
       "      <td>51 W 79TH ST</td>\n",
       "      <td>IL</td>\n",
       "      <td>CHICAGO</td>\n",
       "      <td>60620.0</td>\n",
       "      <td>2014-01-16T00:00:00</td>\n",
       "      <td>Canvass</td>\n",
       "      <td>Pass</td>\n",
       "      <td>34. FLOORS: CONSTRUCTED PER CODE, CLEANED, GOO...</td>\n",
       "      <td>41.750814</td>\n",
       "      <td>-87.626711</td>\n",
       "      <td>(41.750813934830596, -87.62671100515273)</td>\n",
       "    </tr>\n",
       "    <tr>\n",
       "      <th>3</th>\n",
       "      <td>1395528</td>\n",
       "      <td>MILWAUKEE FRESH MARKET</td>\n",
       "      <td>MILWAUKEE FRESH MARKET</td>\n",
       "      <td>2262155.0</td>\n",
       "      <td>Grocery Store</td>\n",
       "      <td>Risk 2 (Medium)</td>\n",
       "      <td>3647-3651 W DIVERSEY AVE</td>\n",
       "      <td>IL</td>\n",
       "      <td>CHICAGO</td>\n",
       "      <td>60647.0</td>\n",
       "      <td>2014-01-16T00:00:00</td>\n",
       "      <td>Complaint</td>\n",
       "      <td>Pass</td>\n",
       "      <td>34. FLOORS: CONSTRUCTED PER CODE, CLEANED, GOO...</td>\n",
       "      <td>41.931776</td>\n",
       "      <td>-87.719103</td>\n",
       "      <td>(41.93177578799307, -87.7191028381685)</td>\n",
       "    </tr>\n",
       "    <tr>\n",
       "      <th>4</th>\n",
       "      <td>1393269</td>\n",
       "      <td>DOMINICK'S</td>\n",
       "      <td>DOMINICK'S Finer Foods, Inc. #1695</td>\n",
       "      <td>41682.0</td>\n",
       "      <td>Grocery Store</td>\n",
       "      <td>Risk 1 (High)</td>\n",
       "      <td>959 W FULLERTON AVE</td>\n",
       "      <td>IL</td>\n",
       "      <td>CHICAGO</td>\n",
       "      <td>60614.0</td>\n",
       "      <td>2014-01-16T00:00:00</td>\n",
       "      <td>Canvass</td>\n",
       "      <td>Out of Business</td>\n",
       "      <td>NaN</td>\n",
       "      <td>41.925268</td>\n",
       "      <td>-87.653488</td>\n",
       "      <td>(41.925268275703296, -87.65348756413924)</td>\n",
       "    </tr>\n",
       "  </tbody>\n",
       "</table>\n",
       "</div>"
      ],
      "text/plain": [
       "   inspection_id                aka_name                            dba_name  \\\n",
       "0        1151931                 BZ MART                             BZ MART   \n",
       "1        1395530            JIMMY JOHN'S            JIMMY JOHN'S STORE # 722   \n",
       "2        1395529                  SUBWAY                              SUBWAY   \n",
       "3        1395528  MILWAUKEE FRESH MARKET              MILWAUKEE FRESH MARKET   \n",
       "4        1393269              DOMINICK'S  DOMINICK'S Finer Foods, Inc. #1695   \n",
       "\n",
       "   license_number  facility_type             risk                    address  \\\n",
       "0       2304387.0  Grocery Store     Risk 3 (Low)       4701 S WESTERN BLVD    \n",
       "1       2279570.0     Restaurant    Risk 1 (High)            1519 E 55TH ST    \n",
       "2       2074313.0     Restaurant    Risk 1 (High)              51 W 79TH ST    \n",
       "3       2262155.0  Grocery Store  Risk 2 (Medium)  3647-3651 W DIVERSEY AVE    \n",
       "4         41682.0  Grocery Store    Risk 1 (High)       959 W FULLERTON AVE    \n",
       "\n",
       "  state     city      zip      inspection_date        inspection_type  \\\n",
       "0    IL  CHICAGO  60609.0  2014-01-17T00:00:00  License Re-Inspection   \n",
       "1    IL  CHICAGO  60615.0  2014-01-16T00:00:00   Short Form Complaint   \n",
       "2    IL  CHICAGO  60620.0  2014-01-16T00:00:00                Canvass   \n",
       "3    IL  CHICAGO  60647.0  2014-01-16T00:00:00              Complaint   \n",
       "4    IL  CHICAGO  60614.0  2014-01-16T00:00:00                Canvass   \n",
       "\n",
       "           results                                         violations  \\\n",
       "0             Pass  35. WALLS, CEILINGS, ATTACHED EQUIPMENT CONSTR...   \n",
       "1             Pass                                                NaN   \n",
       "2             Pass  34. FLOORS: CONSTRUCTED PER CODE, CLEANED, GOO...   \n",
       "3             Pass  34. FLOORS: CONSTRUCTED PER CODE, CLEANED, GOO...   \n",
       "4  Out of Business                                                NaN   \n",
       "\n",
       "    latitude  longitude                                  location  \n",
       "0  41.808373 -87.683726    (41.8083731277443, -87.68372600471193)  \n",
       "1  41.795083 -87.588313  (41.795082532364255, -87.58831293902966)  \n",
       "2  41.750814 -87.626711  (41.750813934830596, -87.62671100515273)  \n",
       "3  41.931776 -87.719103    (41.93177578799307, -87.7191028381685)  \n",
       "4  41.925268 -87.653488  (41.925268275703296, -87.65348756413924)  "
      ]
     },
     "execution_count": 108,
     "metadata": {},
     "output_type": "execute_result"
    }
   ],
   "source": [
    "import pandas as pd\n",
    "import numpy as np\n",
    "import matplotlib.pyplot as ptl\n",
    "\n",
    "datos = pd.read_csv(r\"C:\\Users\\esteb\\Desktop\\Proyecto GAP\\ChicagoIllinois-Restaurants.csv\")\n",
    "datos.head()"
   ]
  },
  {
   "cell_type": "markdown",
   "metadata": {},
   "source": [
    "La base de datos nos muestra los resultados de inspecciones a sitios donde se sirven alimentos, ya sea restaurantes, escuelas, hospitales, supermercados, etc. Cuenta con 28000 observaciones y podemos observar el tipo de establecimiento, el tipo de inspección, el código postal, el nombre legal del lugar, entre otros que se detallaran más adelante. La variable que nos interesa es la de resultados, esto pues no interesa determinar que tipo de lugares están aprovando las inspencciones y cuales no."
   ]
  },
  {
   "cell_type": "code",
   "execution_count": 109,
   "metadata": {},
   "outputs": [
    {
     "name": "stdout",
     "output_type": "stream",
     "text": [
      "<class 'pandas.core.frame.DataFrame'>\n",
      "RangeIndex: 28000 entries, 0 to 27999\n",
      "Data columns (total 17 columns):\n",
      "inspection_id      28000 non-null int64\n",
      "aka_name           27758 non-null object\n",
      "dba_name           28000 non-null object\n",
      "license_number     27999 non-null float64\n",
      "facility_type      27632 non-null object\n",
      "risk               27990 non-null object\n",
      "address            28000 non-null object\n",
      "state              27987 non-null object\n",
      "city               27972 non-null object\n",
      "zip                27996 non-null float64\n",
      "inspection_date    28000 non-null object\n",
      "inspection_type    28000 non-null object\n",
      "results            28000 non-null object\n",
      "violations         20494 non-null object\n",
      "latitude           27866 non-null float64\n",
      "longitude          27866 non-null float64\n",
      "location           27866 non-null object\n",
      "dtypes: float64(4), int64(1), object(12)\n",
      "memory usage: 3.6+ MB\n"
     ]
    }
   ],
   "source": [
    "datos.info()"
   ]
  },
  {
   "cell_type": "markdown",
   "metadata": {},
   "source": [
    "Se puede notar que existen valores nulos en algunas columnas, además de que no hay valores númericos entre las variables, pues lo únicos valores que son números hacen referencia a la identidad o lincencia del lugar, o bien a la ubicación geográfica del sitio. Esto nos deja con variables categóricas que utilizaremos para estudiar la relación que tienen con la variable respuesta, o sea la variable de resultados."
   ]
  },
  {
   "cell_type": "markdown",
   "metadata": {},
   "source": [
    "## Trabajando con Pandas"
   ]
  },
  {
   "cell_type": "markdown",
   "metadata": {},
   "source": [
    "Como los datos son agregados de forma manual, el nombre de los lugares puede aparecer de diferentes formas, aunque representen a una misma cadena de restaurantes. Por lo tanto se determina el factor común en la variable dba_name, que representa el nombre legal del establecimiento, en las instalaciones más repetidas. "
   ]
  },
  {
   "cell_type": "code",
   "execution_count": 110,
   "metadata": {
    "scrolled": true
   },
   "outputs": [
    {
     "data": {
      "text/html": [
       "<div>\n",
       "<style scoped>\n",
       "    .dataframe tbody tr th:only-of-type {\n",
       "        vertical-align: middle;\n",
       "    }\n",
       "\n",
       "    .dataframe tbody tr th {\n",
       "        vertical-align: top;\n",
       "    }\n",
       "\n",
       "    .dataframe thead th {\n",
       "        text-align: right;\n",
       "    }\n",
       "</style>\n",
       "<table border=\"1\" class=\"dataframe\">\n",
       "  <thead>\n",
       "    <tr style=\"text-align: right;\">\n",
       "      <th></th>\n",
       "      <th>inspection_id</th>\n",
       "      <th>aka_name</th>\n",
       "      <th>dba_name</th>\n",
       "      <th>license_number</th>\n",
       "      <th>facility_type</th>\n",
       "      <th>risk</th>\n",
       "      <th>address</th>\n",
       "      <th>state</th>\n",
       "      <th>city</th>\n",
       "      <th>zip</th>\n",
       "      <th>inspection_date</th>\n",
       "      <th>inspection_type</th>\n",
       "      <th>results</th>\n",
       "      <th>violations</th>\n",
       "      <th>latitude</th>\n",
       "      <th>longitude</th>\n",
       "      <th>location</th>\n",
       "    </tr>\n",
       "  </thead>\n",
       "  <tbody>\n",
       "    <tr>\n",
       "      <th>0</th>\n",
       "      <td>1151931</td>\n",
       "      <td>BZ MART</td>\n",
       "      <td>bz mart</td>\n",
       "      <td>2304387.0</td>\n",
       "      <td>Grocery Store</td>\n",
       "      <td>Risk 3 (Low)</td>\n",
       "      <td>4701 S WESTERN BLVD</td>\n",
       "      <td>IL</td>\n",
       "      <td>CHICAGO</td>\n",
       "      <td>60609.0</td>\n",
       "      <td>2014-01-17T00:00:00</td>\n",
       "      <td>License Re-Inspection</td>\n",
       "      <td>Pass</td>\n",
       "      <td>35. WALLS, CEILINGS, ATTACHED EQUIPMENT CONSTR...</td>\n",
       "      <td>41.808373</td>\n",
       "      <td>-87.683726</td>\n",
       "      <td>(41.8083731277443, -87.68372600471193)</td>\n",
       "    </tr>\n",
       "    <tr>\n",
       "      <th>1</th>\n",
       "      <td>1395530</td>\n",
       "      <td>JIMMY JOHN'S</td>\n",
       "      <td>jimmy john's</td>\n",
       "      <td>2279570.0</td>\n",
       "      <td>Restaurant</td>\n",
       "      <td>Risk 1 (High)</td>\n",
       "      <td>1519 E 55TH ST</td>\n",
       "      <td>IL</td>\n",
       "      <td>CHICAGO</td>\n",
       "      <td>60615.0</td>\n",
       "      <td>2014-01-16T00:00:00</td>\n",
       "      <td>Short Form Complaint</td>\n",
       "      <td>Pass</td>\n",
       "      <td>NaN</td>\n",
       "      <td>41.795083</td>\n",
       "      <td>-87.588313</td>\n",
       "      <td>(41.795082532364255, -87.58831293902966)</td>\n",
       "    </tr>\n",
       "    <tr>\n",
       "      <th>2</th>\n",
       "      <td>1395529</td>\n",
       "      <td>SUBWAY</td>\n",
       "      <td>subway</td>\n",
       "      <td>2074313.0</td>\n",
       "      <td>Restaurant</td>\n",
       "      <td>Risk 1 (High)</td>\n",
       "      <td>51 W 79TH ST</td>\n",
       "      <td>IL</td>\n",
       "      <td>CHICAGO</td>\n",
       "      <td>60620.0</td>\n",
       "      <td>2014-01-16T00:00:00</td>\n",
       "      <td>Canvass</td>\n",
       "      <td>Pass</td>\n",
       "      <td>34. FLOORS: CONSTRUCTED PER CODE, CLEANED, GOO...</td>\n",
       "      <td>41.750814</td>\n",
       "      <td>-87.626711</td>\n",
       "      <td>(41.750813934830596, -87.62671100515273)</td>\n",
       "    </tr>\n",
       "    <tr>\n",
       "      <th>3</th>\n",
       "      <td>1395528</td>\n",
       "      <td>MILWAUKEE FRESH MARKET</td>\n",
       "      <td>milwaukee fresh market</td>\n",
       "      <td>2262155.0</td>\n",
       "      <td>Grocery Store</td>\n",
       "      <td>Risk 2 (Medium)</td>\n",
       "      <td>3647-3651 W DIVERSEY AVE</td>\n",
       "      <td>IL</td>\n",
       "      <td>CHICAGO</td>\n",
       "      <td>60647.0</td>\n",
       "      <td>2014-01-16T00:00:00</td>\n",
       "      <td>Complaint</td>\n",
       "      <td>Pass</td>\n",
       "      <td>34. FLOORS: CONSTRUCTED PER CODE, CLEANED, GOO...</td>\n",
       "      <td>41.931776</td>\n",
       "      <td>-87.719103</td>\n",
       "      <td>(41.93177578799307, -87.7191028381685)</td>\n",
       "    </tr>\n",
       "    <tr>\n",
       "      <th>4</th>\n",
       "      <td>1393269</td>\n",
       "      <td>DOMINICK'S</td>\n",
       "      <td>dominick's finer foods, inc. #1695</td>\n",
       "      <td>41682.0</td>\n",
       "      <td>Grocery Store</td>\n",
       "      <td>Risk 1 (High)</td>\n",
       "      <td>959 W FULLERTON AVE</td>\n",
       "      <td>IL</td>\n",
       "      <td>CHICAGO</td>\n",
       "      <td>60614.0</td>\n",
       "      <td>2014-01-16T00:00:00</td>\n",
       "      <td>Canvass</td>\n",
       "      <td>Out of Business</td>\n",
       "      <td>NaN</td>\n",
       "      <td>41.925268</td>\n",
       "      <td>-87.653488</td>\n",
       "      <td>(41.925268275703296, -87.65348756413924)</td>\n",
       "    </tr>\n",
       "  </tbody>\n",
       "</table>\n",
       "</div>"
      ],
      "text/plain": [
       "   inspection_id                aka_name                            dba_name  \\\n",
       "0        1151931                 BZ MART                             bz mart   \n",
       "1        1395530            JIMMY JOHN'S                        jimmy john's   \n",
       "2        1395529                  SUBWAY                              subway   \n",
       "3        1395528  MILWAUKEE FRESH MARKET              milwaukee fresh market   \n",
       "4        1393269              DOMINICK'S  dominick's finer foods, inc. #1695   \n",
       "\n",
       "   license_number  facility_type             risk                    address  \\\n",
       "0       2304387.0  Grocery Store     Risk 3 (Low)       4701 S WESTERN BLVD    \n",
       "1       2279570.0     Restaurant    Risk 1 (High)            1519 E 55TH ST    \n",
       "2       2074313.0     Restaurant    Risk 1 (High)              51 W 79TH ST    \n",
       "3       2262155.0  Grocery Store  Risk 2 (Medium)  3647-3651 W DIVERSEY AVE    \n",
       "4         41682.0  Grocery Store    Risk 1 (High)       959 W FULLERTON AVE    \n",
       "\n",
       "  state     city      zip      inspection_date        inspection_type  \\\n",
       "0    IL  CHICAGO  60609.0  2014-01-17T00:00:00  License Re-Inspection   \n",
       "1    IL  CHICAGO  60615.0  2014-01-16T00:00:00   Short Form Complaint   \n",
       "2    IL  CHICAGO  60620.0  2014-01-16T00:00:00                Canvass   \n",
       "3    IL  CHICAGO  60647.0  2014-01-16T00:00:00              Complaint   \n",
       "4    IL  CHICAGO  60614.0  2014-01-16T00:00:00                Canvass   \n",
       "\n",
       "           results                                         violations  \\\n",
       "0             Pass  35. WALLS, CEILINGS, ATTACHED EQUIPMENT CONSTR...   \n",
       "1             Pass                                                NaN   \n",
       "2             Pass  34. FLOORS: CONSTRUCTED PER CODE, CLEANED, GOO...   \n",
       "3             Pass  34. FLOORS: CONSTRUCTED PER CODE, CLEANED, GOO...   \n",
       "4  Out of Business                                                NaN   \n",
       "\n",
       "    latitude  longitude                                  location  \n",
       "0  41.808373 -87.683726    (41.8083731277443, -87.68372600471193)  \n",
       "1  41.795083 -87.588313  (41.795082532364255, -87.58831293902966)  \n",
       "2  41.750814 -87.626711  (41.750813934830596, -87.62671100515273)  \n",
       "3  41.931776 -87.719103    (41.93177578799307, -87.7191028381685)  \n",
       "4  41.925268 -87.653488  (41.925268275703296, -87.65348756413924)  "
      ]
     },
     "execution_count": 110,
     "metadata": {},
     "output_type": "execute_result"
    }
   ],
   "source": [
    "datos.dba_name = datos.dba_name.str.lower()\n",
    "datos.loc[datos.dba_name.str.contains(\"subway\"),'dba_name'] = \"subway\"\n",
    "datos.loc[datos.dba_name.str.contains(\"dunkin\"),'dba_name'] = \"dunkin donuts\"\n",
    "datos.loc[datos.dba_name.str.contains(\"mcdona\"),'dba_name'] = \"mcdonald's\"\n",
    "datos.loc[datos.dba_name.str.contains(\"chipotle\"),'dba_name'] = \"chipotle mexican grill\"\n",
    "datos.loc[datos.dba_name.str.contains(\"eleven\"),'dba_name'] = \"7 eleven\"\n",
    "datos.loc[datos.dba_name.str.contains(\"papa john\"),'dba_name'] = \"papa john's pizza\"\n",
    "datos.loc[datos.dba_name.str.contains(\"jamba\"),'dba_name'] = \"jamba juice\"\n",
    "datos.loc[datos.dba_name.str.contains(\"whole food\"),'dba_name'] = \"whole foods market\"\n",
    "datos.loc[datos.dba_name.str.contains(\"caesar\"),'dba_name'] = \"little caesar's pizza\"\n",
    "datos.loc[datos.dba_name.str.contains(\"domino\"),'dba_name'] = \"domino's pizza\"\n",
    "datos.loc[datos.dba_name.str.contains(\"freshii\"),'dba_name'] = \"freshii\"\n",
    "datos.loc[datos.dba_name.str.contains(\"jimmy john\"),'dba_name'] = \"jimmy john's\"\n",
    "datos.loc[datos.dba_name.str.contains(\"kentucky\"),'dba_name'] = \"kfc\"\n",
    "datos.loc[datos.dba_name.str.contains(\"kfc\"),'dba_name'] = \"kfc\"\n",
    "datos.loc[datos.dba_name.str.contains(\"starbucks\"),'dba_name'] = \"starbucks\"\n",
    "datos.loc[datos.dba_name.str.contains(\"burger king\"),'dba_name'] = \"burger king\"\n",
    "datos.loc[datos.dba_name.str.contains(\"popeyes\"),'dba_name'] = \"popeyes\"\n",
    "datos.loc[datos.dba_name.str.contains(\"wendy\"),'dba_name'] = \"wendy's\"\n",
    "datos.loc[datos.dba_name.str.contains(\"pizza hut\"),'dba_name'] = \"pizza hut\"\n",
    "datos.loc[datos.dba_name.str.contains(\"j & j\"),'dba_name'] = \"j & j\"\n",
    "datos.loc[datos.dba_name.str.contains(\"boston market\"),'dba_name'] = \"boston market\"\n",
    "datos.loc[datos.dba_name.str.contains(\"church's chicken\"),'dba_name'] = \"church's chicken\"\n",
    "datos.loc[datos.dba_name.str.contains(\"family dollar\"), 'dba_name'] = \"family dollar\"\n",
    "datos.loc[datos.dba_name.str.contains(\"panda express\"), 'dba_name'] = \"panda express\"\n",
    "datos.loc[datos.dba_name.str.contains(\"jewel food\"), 'dba_name'] = \"jewel food\" \n",
    "datos.loc[datos.dba_name.str.contains(\"afc\"), 'dba_name'] = \"afc sushi\"\n",
    "datos.head()"
   ]
  },
  {
   "cell_type": "markdown",
   "metadata": {},
   "source": [
    "En la explicación de la base de datos se formula una fe de erratas sobre los datos duplicados, pues los datos se van agregando de forma manual, y esto induce a errores. Una observación duplicada debe tener el mismo dba_name, la misma dirección, el mismo código postal y además la misma fecha de inspección. Se determina que hay 1227 observaciones duplicadas."
   ]
  },
  {
   "cell_type": "code",
   "execution_count": 111,
   "metadata": {
    "scrolled": false
   },
   "outputs": [
    {
     "data": {
      "text/html": [
       "<div>\n",
       "<style scoped>\n",
       "    .dataframe tbody tr th:only-of-type {\n",
       "        vertical-align: middle;\n",
       "    }\n",
       "\n",
       "    .dataframe tbody tr th {\n",
       "        vertical-align: top;\n",
       "    }\n",
       "\n",
       "    .dataframe thead th {\n",
       "        text-align: right;\n",
       "    }\n",
       "</style>\n",
       "<table border=\"1\" class=\"dataframe\">\n",
       "  <thead>\n",
       "    <tr style=\"text-align: right;\">\n",
       "      <th></th>\n",
       "      <th>inspection_id</th>\n",
       "      <th>aka_name</th>\n",
       "      <th>dba_name</th>\n",
       "      <th>license_number</th>\n",
       "      <th>facility_type</th>\n",
       "      <th>risk</th>\n",
       "      <th>address</th>\n",
       "      <th>state</th>\n",
       "      <th>city</th>\n",
       "      <th>zip</th>\n",
       "      <th>inspection_date</th>\n",
       "      <th>inspection_type</th>\n",
       "      <th>results</th>\n",
       "      <th>violations</th>\n",
       "      <th>latitude</th>\n",
       "      <th>longitude</th>\n",
       "      <th>location</th>\n",
       "    </tr>\n",
       "  </thead>\n",
       "  <tbody>\n",
       "    <tr>\n",
       "      <th>0</th>\n",
       "      <td>1151931</td>\n",
       "      <td>BZ MART</td>\n",
       "      <td>bz mart</td>\n",
       "      <td>2304387.0</td>\n",
       "      <td>Grocery Store</td>\n",
       "      <td>Risk 3 (Low)</td>\n",
       "      <td>4701 S WESTERN BLVD</td>\n",
       "      <td>IL</td>\n",
       "      <td>CHICAGO</td>\n",
       "      <td>60609.0</td>\n",
       "      <td>2014-01-17T00:00:00</td>\n",
       "      <td>License Re-Inspection</td>\n",
       "      <td>Pass</td>\n",
       "      <td>35. WALLS, CEILINGS, ATTACHED EQUIPMENT CONSTR...</td>\n",
       "      <td>41.808373</td>\n",
       "      <td>-87.683726</td>\n",
       "      <td>(41.8083731277443, -87.68372600471193)</td>\n",
       "    </tr>\n",
       "    <tr>\n",
       "      <th>1</th>\n",
       "      <td>1395530</td>\n",
       "      <td>JIMMY JOHN'S</td>\n",
       "      <td>jimmy john's</td>\n",
       "      <td>2279570.0</td>\n",
       "      <td>Restaurant</td>\n",
       "      <td>Risk 1 (High)</td>\n",
       "      <td>1519 E 55TH ST</td>\n",
       "      <td>IL</td>\n",
       "      <td>CHICAGO</td>\n",
       "      <td>60615.0</td>\n",
       "      <td>2014-01-16T00:00:00</td>\n",
       "      <td>Short Form Complaint</td>\n",
       "      <td>Pass</td>\n",
       "      <td>NaN</td>\n",
       "      <td>41.795083</td>\n",
       "      <td>-87.588313</td>\n",
       "      <td>(41.795082532364255, -87.58831293902966)</td>\n",
       "    </tr>\n",
       "    <tr>\n",
       "      <th>2</th>\n",
       "      <td>1395529</td>\n",
       "      <td>SUBWAY</td>\n",
       "      <td>subway</td>\n",
       "      <td>2074313.0</td>\n",
       "      <td>Restaurant</td>\n",
       "      <td>Risk 1 (High)</td>\n",
       "      <td>51 W 79TH ST</td>\n",
       "      <td>IL</td>\n",
       "      <td>CHICAGO</td>\n",
       "      <td>60620.0</td>\n",
       "      <td>2014-01-16T00:00:00</td>\n",
       "      <td>Canvass</td>\n",
       "      <td>Pass</td>\n",
       "      <td>34. FLOORS: CONSTRUCTED PER CODE, CLEANED, GOO...</td>\n",
       "      <td>41.750814</td>\n",
       "      <td>-87.626711</td>\n",
       "      <td>(41.750813934830596, -87.62671100515273)</td>\n",
       "    </tr>\n",
       "    <tr>\n",
       "      <th>3</th>\n",
       "      <td>1395528</td>\n",
       "      <td>MILWAUKEE FRESH MARKET</td>\n",
       "      <td>milwaukee fresh market</td>\n",
       "      <td>2262155.0</td>\n",
       "      <td>Grocery Store</td>\n",
       "      <td>Risk 2 (Medium)</td>\n",
       "      <td>3647-3651 W DIVERSEY AVE</td>\n",
       "      <td>IL</td>\n",
       "      <td>CHICAGO</td>\n",
       "      <td>60647.0</td>\n",
       "      <td>2014-01-16T00:00:00</td>\n",
       "      <td>Complaint</td>\n",
       "      <td>Pass</td>\n",
       "      <td>34. FLOORS: CONSTRUCTED PER CODE, CLEANED, GOO...</td>\n",
       "      <td>41.931776</td>\n",
       "      <td>-87.719103</td>\n",
       "      <td>(41.93177578799307, -87.7191028381685)</td>\n",
       "    </tr>\n",
       "    <tr>\n",
       "      <th>4</th>\n",
       "      <td>1393269</td>\n",
       "      <td>DOMINICK'S</td>\n",
       "      <td>dominick's finer foods, inc. #1695</td>\n",
       "      <td>41682.0</td>\n",
       "      <td>Grocery Store</td>\n",
       "      <td>Risk 1 (High)</td>\n",
       "      <td>959 W FULLERTON AVE</td>\n",
       "      <td>IL</td>\n",
       "      <td>CHICAGO</td>\n",
       "      <td>60614.0</td>\n",
       "      <td>2014-01-16T00:00:00</td>\n",
       "      <td>Canvass</td>\n",
       "      <td>Out of Business</td>\n",
       "      <td>NaN</td>\n",
       "      <td>41.925268</td>\n",
       "      <td>-87.653488</td>\n",
       "      <td>(41.925268275703296, -87.65348756413924)</td>\n",
       "    </tr>\n",
       "  </tbody>\n",
       "</table>\n",
       "</div>"
      ],
      "text/plain": [
       "   inspection_id                aka_name                            dba_name  \\\n",
       "0        1151931                 BZ MART                             bz mart   \n",
       "1        1395530            JIMMY JOHN'S                        jimmy john's   \n",
       "2        1395529                  SUBWAY                              subway   \n",
       "3        1395528  MILWAUKEE FRESH MARKET              milwaukee fresh market   \n",
       "4        1393269              DOMINICK'S  dominick's finer foods, inc. #1695   \n",
       "\n",
       "   license_number  facility_type             risk                    address  \\\n",
       "0       2304387.0  Grocery Store     Risk 3 (Low)       4701 S WESTERN BLVD    \n",
       "1       2279570.0     Restaurant    Risk 1 (High)            1519 E 55TH ST    \n",
       "2       2074313.0     Restaurant    Risk 1 (High)              51 W 79TH ST    \n",
       "3       2262155.0  Grocery Store  Risk 2 (Medium)  3647-3651 W DIVERSEY AVE    \n",
       "4         41682.0  Grocery Store    Risk 1 (High)       959 W FULLERTON AVE    \n",
       "\n",
       "  state     city      zip      inspection_date        inspection_type  \\\n",
       "0    IL  CHICAGO  60609.0  2014-01-17T00:00:00  License Re-Inspection   \n",
       "1    IL  CHICAGO  60615.0  2014-01-16T00:00:00   Short Form Complaint   \n",
       "2    IL  CHICAGO  60620.0  2014-01-16T00:00:00                Canvass   \n",
       "3    IL  CHICAGO  60647.0  2014-01-16T00:00:00              Complaint   \n",
       "4    IL  CHICAGO  60614.0  2014-01-16T00:00:00                Canvass   \n",
       "\n",
       "           results                                         violations  \\\n",
       "0             Pass  35. WALLS, CEILINGS, ATTACHED EQUIPMENT CONSTR...   \n",
       "1             Pass                                                NaN   \n",
       "2             Pass  34. FLOORS: CONSTRUCTED PER CODE, CLEANED, GOO...   \n",
       "3             Pass  34. FLOORS: CONSTRUCTED PER CODE, CLEANED, GOO...   \n",
       "4  Out of Business                                                NaN   \n",
       "\n",
       "    latitude  longitude                                  location  \n",
       "0  41.808373 -87.683726    (41.8083731277443, -87.68372600471193)  \n",
       "1  41.795083 -87.588313  (41.795082532364255, -87.58831293902966)  \n",
       "2  41.750814 -87.626711  (41.750813934830596, -87.62671100515273)  \n",
       "3  41.931776 -87.719103    (41.93177578799307, -87.7191028381685)  \n",
       "4  41.925268 -87.653488  (41.925268275703296, -87.65348756413924)  "
      ]
     },
     "execution_count": 111,
     "metadata": {},
     "output_type": "execute_result"
    }
   ],
   "source": [
    "datos.drop_duplicates(subset = ('dba_name', 'address', 'zip' , 'inspection_date'), keep = \"first\", inplace = True)\n",
    "datos.head()"
   ]
  },
  {
   "cell_type": "markdown",
   "metadata": {},
   "source": [
    "Cuando se observan los datos nulos de la variable de infracciones, nos encontramos con observaciones que pasaron, pasaron con condiciones o perdieron la inspección, por lo que se dictamina que lo mejor es eliminar esos datos. Tambien se borran los datos que no tienen longitud y latitud por la misma razón. Además se borran columnas que no seran de ayuda más adelante, como lo son aka_name, el nombre coloquial del establecimiento, license number, el número de licencia del lugar, state y city pues todas las observaciones son de Chicago, Illinois y el inspection_id."
   ]
  },
  {
   "cell_type": "code",
   "execution_count": 112,
   "metadata": {
    "scrolled": false
   },
   "outputs": [],
   "source": [
    "datos = datos[datos.latitude.isnull() == False]  \n",
    "datos = datos[datos.longitude.isnull() == False]\n",
    "datos = datos[datos.violations.isnull() == False]\n",
    "datos = datos[datos.city == \"CHICAGO\"]\n",
    "del datos['aka_name']\n",
    "del datos['license_number']\n",
    "del datos['inspection_id']\n",
    "del datos['state']\n",
    "del datos['city']"
   ]
  },
  {
   "cell_type": "markdown",
   "metadata": {},
   "source": [
    "Cuando vemos la diferrencia entre la cantidad de restaurantes y cualquier otro tipo de establecimiento es demasiado grande. Por lo que se procede a diferenciar entre los restaurantes y los demás. De esta forma creamos una variable binaria donde hay restaurante u otros, para que los dos niveles tengan una cantidad de observaciones robusta."
   ]
  },
  {
   "cell_type": "code",
   "execution_count": 113,
   "metadata": {},
   "outputs": [
    {
     "data": {
      "text/plain": [
       "Restaurant                         13753\n",
       "Grocery Store                       2393\n",
       "School                              1351\n",
       "Bakery                               355\n",
       "Children's Services Facility         327\n",
       "Daycare Above and Under 2 Years      243\n",
       "Daycare (2 - 6 Years)                220\n",
       "Long Term Care                       152\n",
       "Catering                              89\n",
       "Mobile Food Preparer                  78\n",
       "Daycare Combo 1586                    67\n",
       "Liquor                                62\n",
       "Golden Diner                          45\n",
       "Hospital                              43\n",
       "TAVERN                                34\n",
       "Mobile Food Dispenser                 26\n",
       "Daycare (Under 2 Years)               20\n",
       "GAS STATION                           13\n",
       "Special Event                         12\n",
       "Wholesale                             11\n",
       "Name: facility_type, dtype: int64"
      ]
     },
     "execution_count": 113,
     "metadata": {},
     "output_type": "execute_result"
    }
   ],
   "source": [
    "datos.facility_type.value_counts().head(20)"
   ]
  },
  {
   "cell_type": "markdown",
   "metadata": {},
   "source": [
    "Se decide categorizar como el nivel base el de restaurante y los demás son el nivel 1."
   ]
  },
  {
   "cell_type": "code",
   "execution_count": 114,
   "metadata": {},
   "outputs": [
    {
     "data": {
      "text/plain": [
       "0    13783\n",
       "1     5866\n",
       "Name: facility_type, dtype: int64"
      ]
     },
     "execution_count": 114,
     "metadata": {},
     "output_type": "execute_result"
    }
   ],
   "source": [
    "datos.facility_type = datos.facility_type.str.lower()\n",
    "datos.loc[datos.facility_type.str.contains(\"restaurant\", na = False),'facility_type'] = \"restaurant\"\n",
    "datos.loc[datos.facility_type.str.contains(\"restaurant\", na = False) == False,'facility_type'] = 1\n",
    "datos.loc[datos.facility_type.str.contains(\"restaurant\", na = False),'facility_type'] = 0\n",
    "datos.facility_type.value_counts()"
   ]
  },
  {
   "cell_type": "markdown",
   "metadata": {},
   "source": [
    "Cuando vemmos la cantidad lugares que aprovaron, los que fallaron y los que pasaron con condiciones podemos ver que están muy dispares. Como pasar con condiciones y fallar, según la explicación de la base de datos, significa que se debe repetir la prueba, se determina que es mejor unir los dos niveles para así crear dos niveles bastante robustos. Por otro lado se eliminan las observaciones de restaurantes que ya estaban fuera de servicio."
   ]
  },
  {
   "cell_type": "code",
   "execution_count": 115,
   "metadata": {},
   "outputs": [
    {
     "data": {
      "text/plain": [
       "Pass                  11591\n",
       "Fail                   4815\n",
       "Pass w/ Conditions     3108\n",
       "No Entry                125\n",
       "Not Ready                 8\n",
       "Out of Business           2\n",
       "Name: results, dtype: int64"
      ]
     },
     "execution_count": 115,
     "metadata": {},
     "output_type": "execute_result"
    }
   ],
   "source": [
    "datos.results.value_counts()"
   ]
  },
  {
   "cell_type": "markdown",
   "metadata": {},
   "source": [
    "Se coloca como el nivel base a el resultado positivo, y los demás como el nivel 1."
   ]
  },
  {
   "cell_type": "code",
   "execution_count": 116,
   "metadata": {},
   "outputs": [
    {
     "data": {
      "text/plain": [
       "0    11591\n",
       "1     8056\n",
       "Name: results, dtype: int64"
      ]
     },
     "execution_count": 116,
     "metadata": {},
     "output_type": "execute_result"
    }
   ],
   "source": [
    "datos = datos.loc[datos.results.str.contains(\"Business\", na = False) == False]\n",
    "datos.loc[datos.results.str.contains(\"Conditions\", na = False),'results'] = \"Fail\"\n",
    "datos.loc[datos.results.str.contains(\"Pass\", na = False) == False,'results'] = \"Fail\"\n",
    "datos.loc[datos.results.str.contains(\"Pass\", na = False),'results'] = 0\n",
    "datos.loc[datos.results.str.contains(\"Fail\", na = False),'results'] = 1\n",
    "datos.results.value_counts()"
   ]
  },
  {
   "cell_type": "markdown",
   "metadata": {},
   "source": [
    "Igual que en casos anteriores, los datos que tenemos están muy disparejos en cuanto observaciones, por lo que se vuelve a separar los datos entre canvass (una inspección rutinaria) con las demás. "
   ]
  },
  {
   "cell_type": "code",
   "execution_count": 117,
   "metadata": {},
   "outputs": [
    {
     "data": {
      "text/plain": [
       "Canvass                                   10757\n",
       "Complaint                                  2464\n",
       "Canvass Re-Inspection                      2322\n",
       "License                                    2063\n",
       "Complaint Re-Inspection                     843\n",
       "Short Form Complaint                        535\n",
       "License Re-Inspection                       532\n",
       "Suspected Food Poisoning                     58\n",
       "Recent Inspection                            31\n",
       "Consultation                                 20\n",
       "Suspected Food Poisoning Re-inspection       13\n",
       "Non-Inspection                                4\n",
       "Complaint-Fire                                3\n",
       "Short Form Fire-Complaint                     2\n",
       "Name: inspection_type, dtype: int64"
      ]
     },
     "execution_count": 117,
     "metadata": {},
     "output_type": "execute_result"
    }
   ],
   "source": [
    "datos.inspection_type.value_counts()"
   ]
  },
  {
   "cell_type": "markdown",
   "metadata": {},
   "source": [
    "Se elige el nivel canvass como el base, y los demás como el nivel 1."
   ]
  },
  {
   "cell_type": "code",
   "execution_count": 118,
   "metadata": {},
   "outputs": [
    {
     "data": {
      "text/plain": [
       "0    10757\n",
       "1     8890\n",
       "Name: inspection_type, dtype: int64"
      ]
     },
     "execution_count": 118,
     "metadata": {},
     "output_type": "execute_result"
    }
   ],
   "source": [
    "datos.loc[datos.inspection_type.str.contains(\"Re-Inspection\", na = False),'inspection_type'] = \"other\"\n",
    "datos.loc[datos.inspection_type.str.contains(\"Canvass\", na = False) == False,'inspection_type'] = \"other\"\n",
    "datos.loc[datos.inspection_type.str.contains(\"Canvass\", na = False),'inspection_type'] = 0\n",
    "datos.loc[datos.inspection_type.str.contains(\"other\", na = False),'inspection_type'] = 1\n",
    "datos.inspection_type.value_counts()"
   ]
  },
  {
   "cell_type": "markdown",
   "metadata": {},
   "source": [
    "Para la variable de riesgo se puede ver que esta desbalanceada, pero en este caso sucede algo particular. Los niveles de la variable reisgo son bajo, medio y alto, y cada uno fue designado por razones justificadas, por lo que un cambio en esto es cambiar el diseño del experimento de forma negativa, por lo que es mejor mantener la variable como se diseño. Se deja la variable bajo como el nivel base, el nivel 1 es el medio y el nivel alto es el 2. "
   ]
  },
  {
   "cell_type": "code",
   "execution_count": 119,
   "metadata": {},
   "outputs": [
    {
     "data": {
      "text/plain": [
       "2    14715\n",
       "1     3960\n",
       "0      972\n",
       "Name: risk, dtype: int64"
      ]
     },
     "execution_count": 119,
     "metadata": {},
     "output_type": "execute_result"
    }
   ],
   "source": [
    "datos.loc[datos.risk.str.contains(\"Low\", na = False),'risk'] = 0\n",
    "datos.loc[datos.risk.str.contains(\"Medium\", na = False),'risk'] = 1\n",
    "datos.loc[datos.risk.str.contains(\"High\", na = False),'risk'] = 2\n",
    "datos.risk.value_counts()"
   ]
  },
  {
   "cell_type": "markdown",
   "metadata": {},
   "source": [
    "Para el caso de infracciones la separación ya esta determinada. Las infracciones que van de la 1 a la 29, son infracciones criticas y las que van de la 30 a la 44 y la 70 son leves. Se mantiene el caso base como las infracciones leves  y el nivel 1 son las criticas."
   ]
  },
  {
   "cell_type": "code",
   "execution_count": 120,
   "metadata": {},
   "outputs": [
    {
     "data": {
      "text/plain": [
       "0.0    11700\n",
       "1.0     7947\n",
       "Name: violations, dtype: int64"
      ]
     },
     "execution_count": 120,
     "metadata": {},
     "output_type": "execute_result"
    }
   ],
   "source": [
    "datos.violations = datos.violations[:].str[0:2]\n",
    "datos.violations = pd.to_numeric(datos.violations, errors='coerce')\n",
    "datos.loc[datos.violations < 30,'violations'] = 1\n",
    "datos.loc[datos.violations == 70,'violations'] = 1\n",
    "datos.loc[datos.violations > 29,'violations'] = 0\n",
    "datos.violations.value_counts()"
   ]
  },
  {
   "cell_type": "markdown",
   "metadata": {},
   "source": [
    "Para el análisis que se quiere hacer se busco información de la ciudad de chicago. Una particular de esta ciudad es la lucha endémica que existe entre la parte sur de la ciudad y la parte norte de la misma. Creando así a dos ciudades distinas donde la parte norte se ve como la parte adinerada y de clase y el sur como los barrios bajos. Para la separación se utilizo la latitud de la calle que historicamente se reconoce como la división entre norte y sur. Por lo que todo establecimiento cuya latitud este por encima de 41.87 será de la parte del norte y si esta por debajo será de la parte sur. El nivel base es sur y el nivel 1 es el norte.  "
   ]
  },
  {
   "cell_type": "code",
   "execution_count": 121,
   "metadata": {},
   "outputs": [
    {
     "data": {
      "text/plain": [
       "1    12835\n",
       "0     6812\n",
       "Name: north_south, dtype: int64"
      ]
     },
     "execution_count": 121,
     "metadata": {},
     "output_type": "execute_result"
    }
   ],
   "source": [
    "datos['north_south'] = 0\n",
    "datos.loc[datos.latitude > 41.87, 'north_south'] = 1\n",
    "datos.north_south.value_counts()"
   ]
  },
  {
   "cell_type": "markdown",
   "metadata": {},
   "source": [
    "Para una mejor disección de la ciudad se busco hacer una separación entre las 8 cominudades que conforman a la misma. De esta forma se dividio la base según su código postal, dado que este ya es una categorización de la ciudad por ubicación terrenal. Por lo que se procedio a unir a lol códigos para evitar tener tantos niveles."
   ]
  },
  {
   "cell_type": "code",
   "execution_count": 122,
   "metadata": {},
   "outputs": [
    {
     "data": {
      "text/plain": [
       "4    4201\n",
       "0    3942\n",
       "3    2846\n",
       "2    2689\n",
       "5    1380\n",
       "1    1315\n",
       "6    1214\n",
       "8    1212\n",
       "7     848\n",
       "Name: community, dtype: int64"
      ]
     },
     "execution_count": 122,
     "metadata": {},
     "output_type": "execute_result"
    }
   ],
   "source": [
    "datos['community'] = -1\n",
    "Far_North_Side = [60666, 60631, 60656, 60646, 60630, 60625, 60659, 60626,60640, 60660, 60645, 60613]\n",
    "datos.loc[datos.zip.isin(Far_North_Side), 'community'] = 0\n",
    "North_West_Side = [60634, 60641, 60171, 60707, 60639]\n",
    "datos.loc[datos.zip.isin(North_West_Side), 'community'] = 1\n",
    "North_Side = [60618, 60657, 60647, 60614]\n",
    "datos.loc[datos.zip.isin(North_Side), 'community'] = 2\n",
    "West_Side = [60651, 60622, 60642, 60644, 60624, 60612, 60623, 60608]\n",
    "datos.loc[datos.zip.isin(West_Side), 'community'] = 3\n",
    "Central = [60610, 60611, 60654, 60601, 60607, 60605, 60616, 60661,60606,60603, 60602, 60604]\n",
    "datos.loc[datos.zip.isin(Central), 'community'] = 4\n",
    "South_west_side = [60638, 60632, 60609, 60629]\n",
    "datos.loc[datos.zip.isin(South_west_side), 'community'] = 5\n",
    "South_Side = [60653, 60621, 60615, 60637, 60649, 60636]\n",
    "datos.loc[datos.zip.isin(South_Side), 'community'] = 6\n",
    "Far_Southwest_Side = [60652, 60620, 60655, 60643]\n",
    "datos.loc[datos.zip.isin(Far_Southwest_Side), 'community'] = 7\n",
    "Far_Southeast_Side = [60619, 60628, 60617, 60827, 60633]\n",
    "datos.loc[datos.zip.isin(Far_Southeast_Side), 'community'] = 8\n",
    "datos.community.value_counts()"
   ]
  },
  {
   "cell_type": "markdown",
   "metadata": {},
   "source": [
    "La separación anterior nos permite tener información más detallada de las circunstancias de cada restaurante. Usualemte se utiliza la expectativa de vida como una aproximación de la calidad de vida de las personas. Por lo que se utilizo la información del portal https://chicagolifeexp.tumblr.com para determinar si la calidad de vida es alta, media o baja. Donde el nivel base es bajo, el 1 es medio y el nivel 2 es alto."
   ]
  },
  {
   "cell_type": "code",
   "execution_count": 123,
   "metadata": {},
   "outputs": [],
   "source": [
    "datos['life_exp'] = 0\n",
    "alta = [0,1,2]\n",
    "normal= [3,4,5]\n",
    "baja = [6,7,8]\n",
    "datos.loc[datos.community.isin(alta), 'life_exp'] = 2\n",
    "datos.loc[datos.community.isin(normal), 'life_exp'] = 1\n",
    "datos.loc[datos.community.isin(baja), 'life_exp'] = 0"
   ]
  },
  {
   "cell_type": "markdown",
   "metadata": {},
   "source": [
    "Por otro lado se busco la tasa de crimenes por cada 100 mil habitantes, pues es una aproximación de la seguridad de cada lugar. La información se tomo del portal https://www.neighborhoodscout.com/il/chicago/crime. El nivel base es inseguro, el nivel 1 es medio y el nivel 2 es seguro."
   ]
  },
  {
   "cell_type": "code",
   "execution_count": 124,
   "metadata": {},
   "outputs": [],
   "source": [
    "datos['crime_rate'] = 0\n",
    "seguro = [0, 1, 5]\n",
    "normal = [2, 7]\n",
    "inseguro = [3,4,6,8]\n",
    "datos.loc[datos.community.isin(seguro), 'crime_rate'] = 2\n",
    "datos.loc[datos.community.isin(normal), 'crime_rate'] = 1\n",
    "datos.loc[datos.community.isin(inseguro), 'crime_rate'] = 0"
   ]
  },
  {
   "cell_type": "markdown",
   "metadata": {},
   "source": [
    "Por último se busco la densidad de población de cada zona, la información se obtuvo en el portal http://cartographicperspectives.org/index.php/journal/rt/printerFriendly/cp74-perdue/1076. El nivel base es bajo, el nivel 1 es medio y el nivel 2 es alto."
   ]
  },
  {
   "cell_type": "code",
   "execution_count": 125,
   "metadata": {
    "scrolled": true
   },
   "outputs": [
    {
     "data": {
      "text/html": [
       "<div>\n",
       "<style scoped>\n",
       "    .dataframe tbody tr th:only-of-type {\n",
       "        vertical-align: middle;\n",
       "    }\n",
       "\n",
       "    .dataframe tbody tr th {\n",
       "        vertical-align: top;\n",
       "    }\n",
       "\n",
       "    .dataframe thead th {\n",
       "        text-align: right;\n",
       "    }\n",
       "</style>\n",
       "<table border=\"1\" class=\"dataframe\">\n",
       "  <thead>\n",
       "    <tr style=\"text-align: right;\">\n",
       "      <th></th>\n",
       "      <th>dba_name</th>\n",
       "      <th>facility_type</th>\n",
       "      <th>risk</th>\n",
       "      <th>address</th>\n",
       "      <th>zip</th>\n",
       "      <th>inspection_date</th>\n",
       "      <th>inspection_type</th>\n",
       "      <th>results</th>\n",
       "      <th>violations</th>\n",
       "      <th>latitude</th>\n",
       "      <th>longitude</th>\n",
       "      <th>location</th>\n",
       "      <th>north_south</th>\n",
       "      <th>community</th>\n",
       "      <th>life_exp</th>\n",
       "      <th>crime_rate</th>\n",
       "      <th>pob_density</th>\n",
       "    </tr>\n",
       "  </thead>\n",
       "  <tbody>\n",
       "    <tr>\n",
       "      <th>0</th>\n",
       "      <td>bz mart</td>\n",
       "      <td>1</td>\n",
       "      <td>0</td>\n",
       "      <td>4701 S WESTERN BLVD</td>\n",
       "      <td>60609.0</td>\n",
       "      <td>2014-01-17T00:00:00</td>\n",
       "      <td>1</td>\n",
       "      <td>0</td>\n",
       "      <td>0.0</td>\n",
       "      <td>41.808373</td>\n",
       "      <td>-87.683726</td>\n",
       "      <td>(41.8083731277443, -87.68372600471193)</td>\n",
       "      <td>0</td>\n",
       "      <td>5</td>\n",
       "      <td>1</td>\n",
       "      <td>2</td>\n",
       "      <td>1</td>\n",
       "    </tr>\n",
       "    <tr>\n",
       "      <th>2</th>\n",
       "      <td>subway</td>\n",
       "      <td>0</td>\n",
       "      <td>2</td>\n",
       "      <td>51 W 79TH ST</td>\n",
       "      <td>60620.0</td>\n",
       "      <td>2014-01-16T00:00:00</td>\n",
       "      <td>0</td>\n",
       "      <td>0</td>\n",
       "      <td>0.0</td>\n",
       "      <td>41.750814</td>\n",
       "      <td>-87.626711</td>\n",
       "      <td>(41.750813934830596, -87.62671100515273)</td>\n",
       "      <td>0</td>\n",
       "      <td>7</td>\n",
       "      <td>0</td>\n",
       "      <td>1</td>\n",
       "      <td>1</td>\n",
       "    </tr>\n",
       "    <tr>\n",
       "      <th>3</th>\n",
       "      <td>milwaukee fresh market</td>\n",
       "      <td>1</td>\n",
       "      <td>1</td>\n",
       "      <td>3647-3651 W DIVERSEY AVE</td>\n",
       "      <td>60647.0</td>\n",
       "      <td>2014-01-16T00:00:00</td>\n",
       "      <td>1</td>\n",
       "      <td>0</td>\n",
       "      <td>0.0</td>\n",
       "      <td>41.931776</td>\n",
       "      <td>-87.719103</td>\n",
       "      <td>(41.93177578799307, -87.7191028381685)</td>\n",
       "      <td>1</td>\n",
       "      <td>2</td>\n",
       "      <td>2</td>\n",
       "      <td>1</td>\n",
       "      <td>2</td>\n",
       "    </tr>\n",
       "    <tr>\n",
       "      <th>5</th>\n",
       "      <td>subway</td>\n",
       "      <td>0</td>\n",
       "      <td>2</td>\n",
       "      <td>1100 W TAYLOR ST</td>\n",
       "      <td>60607.0</td>\n",
       "      <td>2014-01-16T00:00:00</td>\n",
       "      <td>1</td>\n",
       "      <td>1</td>\n",
       "      <td>1.0</td>\n",
       "      <td>41.869566</td>\n",
       "      <td>-87.654278</td>\n",
       "      <td>(41.86956628158364, -87.65427837887948)</td>\n",
       "      <td>0</td>\n",
       "      <td>4</td>\n",
       "      <td>1</td>\n",
       "      <td>0</td>\n",
       "      <td>2</td>\n",
       "    </tr>\n",
       "    <tr>\n",
       "      <th>6</th>\n",
       "      <td>chop suey kitchen</td>\n",
       "      <td>0</td>\n",
       "      <td>2</td>\n",
       "      <td>5353 W MADISON ST</td>\n",
       "      <td>60644.0</td>\n",
       "      <td>2014-01-16T00:00:00</td>\n",
       "      <td>0</td>\n",
       "      <td>0</td>\n",
       "      <td>0.0</td>\n",
       "      <td>41.880205</td>\n",
       "      <td>-87.759586</td>\n",
       "      <td>(41.880205089634494, -87.75958648612682)</td>\n",
       "      <td>1</td>\n",
       "      <td>3</td>\n",
       "      <td>1</td>\n",
       "      <td>0</td>\n",
       "      <td>2</td>\n",
       "    </tr>\n",
       "  </tbody>\n",
       "</table>\n",
       "</div>"
      ],
      "text/plain": [
       "                 dba_name  facility_type  risk                    address  \\\n",
       "0                 bz mart              1     0       4701 S WESTERN BLVD    \n",
       "2                  subway              0     2              51 W 79TH ST    \n",
       "3  milwaukee fresh market              1     1  3647-3651 W DIVERSEY AVE    \n",
       "5                  subway              0     2          1100 W TAYLOR ST    \n",
       "6       chop suey kitchen              0     2         5353 W MADISON ST    \n",
       "\n",
       "       zip      inspection_date  inspection_type  results  violations  \\\n",
       "0  60609.0  2014-01-17T00:00:00                1        0         0.0   \n",
       "2  60620.0  2014-01-16T00:00:00                0        0         0.0   \n",
       "3  60647.0  2014-01-16T00:00:00                1        0         0.0   \n",
       "5  60607.0  2014-01-16T00:00:00                1        1         1.0   \n",
       "6  60644.0  2014-01-16T00:00:00                0        0         0.0   \n",
       "\n",
       "    latitude  longitude                                  location  \\\n",
       "0  41.808373 -87.683726    (41.8083731277443, -87.68372600471193)   \n",
       "2  41.750814 -87.626711  (41.750813934830596, -87.62671100515273)   \n",
       "3  41.931776 -87.719103    (41.93177578799307, -87.7191028381685)   \n",
       "5  41.869566 -87.654278   (41.86956628158364, -87.65427837887948)   \n",
       "6  41.880205 -87.759586  (41.880205089634494, -87.75958648612682)   \n",
       "\n",
       "   north_south  community  life_exp  crime_rate  pob_density  \n",
       "0            0          5         1           2            1  \n",
       "2            0          7         0           1            1  \n",
       "3            1          2         2           1            2  \n",
       "5            0          4         1           0            2  \n",
       "6            1          3         1           0            2  "
      ]
     },
     "execution_count": 125,
     "metadata": {},
     "output_type": "execute_result"
    }
   ],
   "source": [
    "datos['pob_density'] = 0\n",
    "Pob_densa = [1,2,3,4]\n",
    "Pob_normal = [0,5,7]\n",
    "Pob_baja = [6,8]\n",
    "datos.loc[datos.community.isin(Pob_densa), 'pob_density'] = 2\n",
    "datos.loc[datos.community.isin(Pob_normal), 'pob_density'] = 1\n",
    "datos.loc[datos.community.isin(Pob_baja), 'pob_density'] = 0\n",
    "datos.head()"
   ]
  },
  {
   "cell_type": "markdown",
   "metadata": {},
   "source": [
    "## Análisis Exploratorio de Datos"
   ]
  },
  {
   "cell_type": "markdown",
   "metadata": {},
   "source": [
    "Al tener únicamente variables categóricas, procederemos a ver como se distribuyen los exitos y fallos en las variables que tenemos."
   ]
  },
  {
   "cell_type": "code",
   "execution_count": 76,
   "metadata": {},
   "outputs": [
    {
     "data": {
      "text/plain": [
       "<matplotlib.axes._subplots.AxesSubplot at 0x20436b43cc0>"
      ]
     },
     "execution_count": 76,
     "metadata": {},
     "output_type": "execute_result"
    },
    {
     "data": {
      "image/png": "[encoded data removed]",
      "text/plain": [
       "<Figure size 432x288 with 1 Axes>"
      ]
     },
     "metadata": {},
     "output_type": "display_data"
    }
   ],
   "source": [
    "results_count  = pd.crosstab([datos.north_south], datos.results)\n",
    "results_count.plot.bar(stacked=True, color=['black','gold'], grid=True)"
   ]
  },
  {
   "cell_type": "markdown",
   "metadata": {},
   "source": [
    "Note que la mayor cantidad de fallos esta en en la parte norte de la ciudad. Por otro lado hay una mayor cantidad de establecimientos en esta parte."
   ]
  },
  {
   "cell_type": "code",
   "execution_count": 77,
   "metadata": {},
   "outputs": [
    {
     "data": {
      "text/plain": [
       "<matplotlib.axes._subplots.AxesSubplot at 0x2043433c470>"
      ]
     },
     "execution_count": 77,
     "metadata": {},
     "output_type": "execute_result"
    },
    {
     "data": {
      "image/png": "[encoded data removed]",
      "text/plain": [
       "<Figure size 432x288 with 1 Axes>"
      ]
     },
     "metadata": {},
     "output_type": "display_data"
    }
   ],
   "source": [
    "results_count  = pd.crosstab([datos.life_exp], datos.results)\n",
    "results_count.plot.bar(stacked=True, color=['black','gold'], grid=True)"
   ]
  },
  {
   "cell_type": "markdown",
   "metadata": {},
   "source": [
    "Cuando observamos la distribución con respecto a la esperanza de vida, no parece que haya una tendencia. El nivel base tiene en proporción más fallos que los otros dos niveles, aunque la diferencia no es tanta. "
   ]
  },
  {
   "cell_type": "code",
   "execution_count": 78,
   "metadata": {},
   "outputs": [
    {
     "data": {
      "text/plain": [
       "<matplotlib.axes._subplots.AxesSubplot at 0x20434395cf8>"
      ]
     },
     "execution_count": 78,
     "metadata": {},
     "output_type": "execute_result"
    },
    {
     "data": {
      "image/png": "[encoded data removed]",
      "text/plain": [
       "<Figure size 432x288 with 1 Axes>"
      ]
     },
     "metadata": {},
     "output_type": "display_data"
    }
   ],
   "source": [
    "results_count  = pd.crosstab([datos.crime_rate], datos.results)\n",
    "results_count.plot.bar(stacked=True, color=['black','gold'], grid=True)"
   ]
  },
  {
   "cell_type": "markdown",
   "metadata": {},
   "source": [
    "Hay una gran cantidad de establecimientos en barrios con altas tasas de criminalidad."
   ]
  },
  {
   "cell_type": "code",
   "execution_count": 79,
   "metadata": {},
   "outputs": [
    {
     "data": {
      "text/plain": [
       "<matplotlib.axes._subplots.AxesSubplot at 0x20436031e48>"
      ]
     },
     "execution_count": 79,
     "metadata": {},
     "output_type": "execute_result"
    },
    {
     "data": {
      "image/png": "[encoded data removed]",
      "text/plain": [
       "<Figure size 432x288 with 1 Axes>"
      ]
     },
     "metadata": {},
     "output_type": "display_data"
    }
   ],
   "source": [
    "results_count  = pd.crosstab([datos.pob_density], datos.results)\n",
    "results_count.plot.bar(stacked=True, color=['black','gold'], grid=True)"
   ]
  },
  {
   "cell_type": "markdown",
   "metadata": {},
   "source": [
    "Se puede notar que, según lo que se esperaría, la mayoría de restaurantes esta en los lugares donde mayor densidad de población hay. "
   ]
  },
  {
   "cell_type": "code",
   "execution_count": 80,
   "metadata": {},
   "outputs": [
    {
     "data": {
      "text/plain": [
       "<matplotlib.axes._subplots.AxesSubplot at 0x20436a17390>"
      ]
     },
     "execution_count": 80,
     "metadata": {},
     "output_type": "execute_result"
    },
    {
     "data": {
      "image/png": "[encoded data removed]",
      "text/plain": [
       "<Figure size 432x288 with 1 Axes>"
      ]
     },
     "metadata": {},
     "output_type": "display_data"
    }
   ],
   "source": [
    "results_count  = pd.crosstab([datos.facility_type], datos.results)\n",
    "results_count.plot.bar(stacked=True, color=['black','gold'], grid=True)"
   ]
  },
  {
   "cell_type": "markdown",
   "metadata": {},
   "source": [
    "La mayor cantidad de fallos esta en los restaurantes, aunque en proporción hay mayor cantidad de fallos en el grupo de otros."
   ]
  },
  {
   "cell_type": "code",
   "execution_count": 81,
   "metadata": {},
   "outputs": [
    {
     "data": {
      "text/plain": [
       "<matplotlib.axes._subplots.AxesSubplot at 0x20436a872e8>"
      ]
     },
     "execution_count": 81,
     "metadata": {},
     "output_type": "execute_result"
    },
    {
     "data": {
      "image/png": "[encoded data removed]",
      "text/plain": [
       "<Figure size 432x288 with 1 Axes>"
      ]
     },
     "metadata": {},
     "output_type": "display_data"
    }
   ],
   "source": [
    "results_count  = pd.crosstab([datos.risk], datos.results)\n",
    "results_count.plot.bar(stacked=True, color=['black','gold'], grid=True)"
   ]
  },
  {
   "cell_type": "markdown",
   "metadata": {},
   "source": [
    "Hay una gran cantidad de establecimientos con alto riesgo, y la mayoría de fallos esta ahí. Aunque tambien hay muchos fallos en los otros dos niveles, en proporción."
   ]
  },
  {
   "cell_type": "code",
   "execution_count": 82,
   "metadata": {},
   "outputs": [
    {
     "data": {
      "text/plain": [
       "<matplotlib.axes._subplots.AxesSubplot at 0x20436b6d0b8>"
      ]
     },
     "execution_count": 82,
     "metadata": {},
     "output_type": "execute_result"
    },
    {
     "data": {
      "image/png": "[encoded data removed]",
      "text/plain": [
       "<Figure size 432x288 with 1 Axes>"
      ]
     },
     "metadata": {},
     "output_type": "display_data"
    }
   ],
   "source": [
    "results_count  = pd.crosstab([datos.inspection_type], datos.results)\n",
    "results_count.plot.bar(stacked=True, color=['black','gold'], grid=True)"
   ]
  },
  {
   "cell_type": "markdown",
   "metadata": {},
   "source": [
    "Según el tipo de revisión, la mayoría de fallos esta en el grupo de canvass. "
   ]
  },
  {
   "cell_type": "code",
   "execution_count": 83,
   "metadata": {},
   "outputs": [
    {
     "data": {
      "text/plain": [
       "<matplotlib.axes._subplots.AxesSubplot at 0x20436bd7470>"
      ]
     },
     "execution_count": 83,
     "metadata": {},
     "output_type": "execute_result"
    },
    {
     "data": {
      "image/png": "[encoded data removed]",
      "text/plain": [
       "<Figure size 432x288 with 1 Axes>"
      ]
     },
     "metadata": {},
     "output_type": "display_data"
    }
   ],
   "source": [
    "results_count  = pd.crosstab([datos.violations], datos.results)\n",
    "results_count.plot.bar(stacked=True, color=['black','gold'], grid=True)"
   ]
  },
  {
   "cell_type": "markdown",
   "metadata": {},
   "source": [
    "Por último en infracciones tenemos una particularidad. Las observaciones están bastante separad, lo que nos lleva a pensar que el reglamento indica que si se tiene una infracción critica, automaticamente se pierde la inspección, más adelante trataremos el caso con detalle."
   ]
  },
  {
   "cell_type": "markdown",
   "metadata": {},
   "source": [
    "## Regresión Logística"
   ]
  },
  {
   "cell_type": "code",
   "execution_count": 222,
   "metadata": {},
   "outputs": [],
   "source": [
    "y = datos.pop('results')\n",
    "X = datos.copy()"
   ]
  },
  {
   "cell_type": "markdown",
   "metadata": {},
   "source": [
    "Elegimos la variable respuesta y separamos el resto de la base de datos."
   ]
  },
  {
   "cell_type": "code",
   "execution_count": 223,
   "metadata": {},
   "outputs": [
    {
     "data": {
      "text/html": [
       "<div>\n",
       "<style scoped>\n",
       "    .dataframe tbody tr th:only-of-type {\n",
       "        vertical-align: middle;\n",
       "    }\n",
       "\n",
       "    .dataframe tbody tr th {\n",
       "        vertical-align: top;\n",
       "    }\n",
       "\n",
       "    .dataframe thead th {\n",
       "        text-align: right;\n",
       "    }\n",
       "</style>\n",
       "<table border=\"1\" class=\"dataframe\">\n",
       "  <thead>\n",
       "    <tr style=\"text-align: right;\">\n",
       "      <th></th>\n",
       "      <th>facility_type</th>\n",
       "      <th>risk</th>\n",
       "      <th>inspection_type</th>\n",
       "      <th>violations</th>\n",
       "      <th>north_south</th>\n",
       "      <th>community</th>\n",
       "      <th>life_exp</th>\n",
       "      <th>crime_rate</th>\n",
       "      <th>pob_density</th>\n",
       "    </tr>\n",
       "  </thead>\n",
       "  <tbody>\n",
       "    <tr>\n",
       "      <th>0</th>\n",
       "      <td>1</td>\n",
       "      <td>0</td>\n",
       "      <td>1</td>\n",
       "      <td>0.0</td>\n",
       "      <td>0</td>\n",
       "      <td>5</td>\n",
       "      <td>1</td>\n",
       "      <td>2</td>\n",
       "      <td>1</td>\n",
       "    </tr>\n",
       "    <tr>\n",
       "      <th>2</th>\n",
       "      <td>0</td>\n",
       "      <td>2</td>\n",
       "      <td>0</td>\n",
       "      <td>0.0</td>\n",
       "      <td>0</td>\n",
       "      <td>7</td>\n",
       "      <td>0</td>\n",
       "      <td>1</td>\n",
       "      <td>1</td>\n",
       "    </tr>\n",
       "    <tr>\n",
       "      <th>3</th>\n",
       "      <td>1</td>\n",
       "      <td>1</td>\n",
       "      <td>1</td>\n",
       "      <td>0.0</td>\n",
       "      <td>1</td>\n",
       "      <td>2</td>\n",
       "      <td>2</td>\n",
       "      <td>1</td>\n",
       "      <td>2</td>\n",
       "    </tr>\n",
       "    <tr>\n",
       "      <th>5</th>\n",
       "      <td>0</td>\n",
       "      <td>2</td>\n",
       "      <td>1</td>\n",
       "      <td>1.0</td>\n",
       "      <td>0</td>\n",
       "      <td>4</td>\n",
       "      <td>1</td>\n",
       "      <td>0</td>\n",
       "      <td>2</td>\n",
       "    </tr>\n",
       "    <tr>\n",
       "      <th>6</th>\n",
       "      <td>0</td>\n",
       "      <td>2</td>\n",
       "      <td>0</td>\n",
       "      <td>0.0</td>\n",
       "      <td>1</td>\n",
       "      <td>3</td>\n",
       "      <td>1</td>\n",
       "      <td>0</td>\n",
       "      <td>2</td>\n",
       "    </tr>\n",
       "  </tbody>\n",
       "</table>\n",
       "</div>"
      ],
      "text/plain": [
       "   facility_type  risk  inspection_type  violations  north_south  community  \\\n",
       "0              1     0                1         0.0            0          5   \n",
       "2              0     2                0         0.0            0          7   \n",
       "3              1     1                1         0.0            1          2   \n",
       "5              0     2                1         1.0            0          4   \n",
       "6              0     2                0         0.0            1          3   \n",
       "\n",
       "   life_exp  crime_rate  pob_density  \n",
       "0         1           2            1  \n",
       "2         0           1            1  \n",
       "3         2           1            2  \n",
       "5         1           0            2  \n",
       "6         1           0            2  "
      ]
     },
     "execution_count": 223,
     "metadata": {},
     "output_type": "execute_result"
    }
   ],
   "source": [
    "del X['zip']\n",
    "del X['address']\n",
    "del X['latitude']\n",
    "del X['longitude']\n",
    "del X['location']\n",
    "del X['inspection_date']\n",
    "del X['dba_name']\n",
    "X.head()"
   ]
  },
  {
   "cell_type": "markdown",
   "metadata": {},
   "source": [
    "Eliminamos de la base todas la variables que no nos sirven."
   ]
  },
  {
   "cell_type": "code",
   "execution_count": 224,
   "metadata": {},
   "outputs": [],
   "source": [
    "X['pob_density'] = X['pob_density'].astype('category')\n",
    "X['crime_rate'] = X['crime_rate'].astype('category')\n",
    "X['life_exp'] = X['life_exp'].astype('category')\n",
    "X['community'] = X['community'].astype('category')\n",
    "X['north_south'] = X['north_south'].astype('category')\n",
    "X['violations'] = X['violations'].astype('category')\n",
    "X['inspection_type'] = X['inspection_type'].astype('category')\n",
    "X['risk'] = X['risk'].astype('category')\n",
    "X['facility_type'] = X['facility_type'].astype('category')"
   ]
  },
  {
   "cell_type": "markdown",
   "metadata": {},
   "source": [
    "Le indicamos a nuestra base de datos que entienda las variables como categóricas."
   ]
  },
  {
   "cell_type": "code",
   "execution_count": 225,
   "metadata": {},
   "outputs": [],
   "source": [
    "from sklearn.model_selection import train_test_split\n",
    "X_train, X_test, y_train, y_test = train_test_split(X, y, test_size = 0.30,random_state=0)"
   ]
  },
  {
   "cell_type": "markdown",
   "metadata": {},
   "source": [
    "Separamos la base entre datos de prueba y datos de entrenamiento."
   ]
  },
  {
   "cell_type": "code",
   "execution_count": 226,
   "metadata": {},
   "outputs": [],
   "source": [
    "from sklearn.linear_model import LogisticRegression\n",
    "clf = LogisticRegression(random_state=0, solver='lbfgs', multi_class='multinomial').fit(X_train, y_train)\n",
    "predicciones = clf.predict(X_test)"
   ]
  },
  {
   "cell_type": "code",
   "execution_count": 131,
   "metadata": {},
   "outputs": [],
   "source": [
    "import matplotlib.pyplot as plt\n",
    "\n",
    "def plot_confusion_matrix(cm, target_names, title = 'The Confusion Matrix', cmap = plt.cm.YlOrRd):\n",
    "    plt.imshow(cm, interpolation = 'nearest', cmap = cmap)\n",
    "    plt.tight_layout()\n",
    "    \n",
    "    # Add feature labels to x and y axes\n",
    "    tick_marks = np.arange(len(target_names))\n",
    "    plt.xticks(tick_marks, target_names, rotation=45)\n",
    "    plt.yticks(tick_marks, target_names)\n",
    "    \n",
    "    plt.ylabel('True Label')\n",
    "    plt.xlabel('Predicted Label')\n",
    "    \n",
    "    plt.colorbar()"
   ]
  },
  {
   "cell_type": "code",
   "execution_count": 227,
   "metadata": {
    "scrolled": false
   },
   "outputs": [
    {
     "name": "stdout",
     "output_type": "stream",
     "text": [
      "0.9896522476675148\n",
      "[[3471   14]\n",
      " [  47 2363]]\n"
     ]
    },
    {
     "data": {
      "image/png": "[encoded data removed]",
      "text/plain": [
       "<Figure size 432x288 with 2 Axes>"
      ]
     },
     "metadata": {},
     "output_type": "display_data"
    }
   ],
   "source": [
    "from sklearn.metrics import confusion_matrix\n",
    "%matplotlib inline\n",
    "cm = confusion_matrix(y_test, predicciones)\n",
    "print(clf.score(X_test, y_test))\n",
    "print(cm)\n",
    "\n",
    "plot_confusion_matrix(cm, [\"Pass\", \"Fail\"])"
   ]
  },
  {
   "cell_type": "markdown",
   "metadata": {},
   "source": [
    "Como ya se habia hablado, la variable de infracciones no nos sirve para estudiar el comportamiento que tienen las demás variables con el resultado de la prueba, por el alto nivel de causalidad que tiene esta variable con el resultado. Lo que nos da un 99% de precisión en la calificación, sin embargo no nos dice nada del análisis deseado. Por otro lado las tablas de confusión tienen el problema de la dependencia de umbral. Como la regresión logistica lo que nos da es un valor entre cero o uno, el valor se transforma en cero o uno según un umbral que se ponga. Para evitar esto y detallar el análisis de forma más precisa utilizaremos una curva ROC, método que no depende de ningun umbral y nos dara una prueba de la potencia de clasificación menos sesgada."
   ]
  },
  {
   "cell_type": "code",
   "execution_count": 228,
   "metadata": {},
   "outputs": [
    {
     "data": {
      "image/png": "[encoded data removed]",
      "text/plain": [
       "<Figure size 432x288 with 1 Axes>"
      ]
     },
     "metadata": {},
     "output_type": "display_data"
    }
   ],
   "source": [
    "from sklearn.metrics import roc_curve, auc\n",
    "fpr = dict()\n",
    "tpr = dict()\n",
    "roc_auc = dict()\n",
    "y_score = clf.predict_proba(X_test)\n",
    "\n",
    "fpr[0], tpr[0], _ = roc_curve(y_test, y_score[:,1])\n",
    "roc_auc[0] = auc(fpr[0], tpr[0])\n",
    "plt.figure()\n",
    "\n",
    "lw = 2\n",
    "plt.plot(fpr[0], tpr[0], color='darkorange',\n",
    "         lw=lw, label='ROC curve (area = %0.2f)' % roc_auc[0])\n",
    "plt.plot([0, 1], [0, 1], color='navy', lw=lw, linestyle='--')\n",
    "plt.xlim([0.0, 1.0])\n",
    "plt.ylim([0.0, 1.05])\n",
    "plt.xlabel('False Positive Rate')\n",
    "plt.ylabel('True Positive Rate')\n",
    "plt.title('Receiver operating characteristic example')\n",
    "plt.legend(loc=\"lower right\")\n",
    "plt.show()"
   ]
  },
  {
   "cell_type": "markdown",
   "metadata": {},
   "source": [
    "Procedemos a realizar el análisis sin la variable \"violations\""
   ]
  },
  {
   "cell_type": "code",
   "execution_count": 229,
   "metadata": {},
   "outputs": [],
   "source": [
    "del X['violations']"
   ]
  },
  {
   "cell_type": "code",
   "execution_count": 230,
   "metadata": {},
   "outputs": [
    {
     "name": "stdout",
     "output_type": "stream",
     "text": [
      "0.5910093299406276\n",
      "[[3475   10]\n",
      " [2401    9]]\n"
     ]
    },
    {
     "data": {
      "image/png": "[encoded data removed]",
      "text/plain": [
       "<Figure size 432x288 with 2 Axes>"
      ]
     },
     "metadata": {},
     "output_type": "display_data"
    }
   ],
   "source": [
    "X_train, X_test, y_train, y_test = train_test_split(X, y, test_size = 0.30, random_state=0)\n",
    "clf = LogisticRegression(random_state=0, solver='lbfgs', multi_class='multinomial').fit(X_train, y_train)\n",
    "predicciones = clf.predict(X_test)\n",
    "cm = confusion_matrix(y_test, predicciones)\n",
    "print(clf.score(X_test, y_test))\n",
    "print(cm)\n",
    "plot_confusion_matrix(cm, [\"Pass\", \"Fail\"])"
   ]
  },
  {
   "cell_type": "code",
   "execution_count": 231,
   "metadata": {},
   "outputs": [
    {
     "data": {
      "image/png": "[encoded data removed]",
      "text/plain": [
       "<Figure size 432x288 with 1 Axes>"
      ]
     },
     "metadata": {},
     "output_type": "display_data"
    }
   ],
   "source": [
    "fpr = dict()\n",
    "tpr = dict()\n",
    "roc_auc = dict()\n",
    "y_score = clf.predict_proba(X_test)\n",
    "fpr[0], tpr[0], _ = roc_curve(y_test, y_score[:,1])\n",
    "roc_auc[0] = auc(fpr[0], tpr[0])\n",
    "plt.figure()\n",
    "lw = 2\n",
    "\n",
    "\n",
    "plt.plot(fpr[0], tpr[0], color='darkorange',\n",
    "         lw=lw, label='ROC curve (area = %0.2f)' % roc_auc[0])\n",
    "plt.plot([0, 1], [0, 1], color='navy', lw=lw, linestyle='--')\n",
    "plt.xlim([0.0, 1.0])\n",
    "plt.ylim([0.0, 1.05])\n",
    "plt.xlabel('False Positive Rate')\n",
    "plt.ylabel('True Positive Rate')\n",
    "plt.title('Receiver operating characteristic example')\n",
    "plt.legend(loc=\"lower right\")\n",
    "plt.show()"
   ]
  },
  {
   "cell_type": "markdown",
   "metadata": {},
   "source": [
    "Procedemos a intetar hacer una selección de variables para intentar mejorar la predicción del modelo. La selección la hacemos mediante la regresión Lasso que nos dira que variables eliminar del modelo."
   ]
  },
  {
   "cell_type": "code",
   "execution_count": 232,
   "metadata": {},
   "outputs": [
    {
     "name": "stdout",
     "output_type": "stream",
     "text": [
      "[-0. -0. -0. -0. -0.  0. -0. -0.]\n"
     ]
    }
   ],
   "source": [
    "from sklearn import linear_model\n",
    "clf = linear_model.Lasso(alpha=0.1)\n",
    "clf.fit(X,y)\n",
    "Lasso(alpha=0.1, copy_X=True, fit_intercept=True, max_iter=1000,\n",
    "   normalize=False, positive=False, precompute=False, random_state=None,\n",
    "   selection='cyclic', tol=0.0001, warm_start=False)\n",
    "print(clf.coef_)"
   ]
  },
  {
   "cell_type": "markdown",
   "metadata": {},
   "source": [
    "Notemos que la regresión Lasso nos dice que eliminemos todas las variables del modelo, por lo que se debe realizar un estudio más detallado es pertinente."
   ]
  },
  {
   "cell_type": "code",
   "execution_count": 244,
   "metadata": {},
   "outputs": [
    {
     "data": {
      "text/html": [
       "<table class=\"simpletable\">\n",
       "<caption>Generalized Linear Model Regression Results</caption>\n",
       "<tr>\n",
       "  <th>Dep. Variable:</th>       <td>results</td>     <th>  No. Observations:  </th>  <td> 19647</td>  \n",
       "</tr>\n",
       "<tr>\n",
       "  <th>Model:</th>                 <td>GLM</td>       <th>  Df Residuals:      </th>  <td> 19640</td>  \n",
       "</tr>\n",
       "<tr>\n",
       "  <th>Model Family:</th>       <td>Binomial</td>     <th>  Df Model:          </th>  <td>     6</td>  \n",
       "</tr>\n",
       "<tr>\n",
       "  <th>Link Function:</th>        <td>logit</td>      <th>  Scale:             </th> <td>  1.0000</td> \n",
       "</tr>\n",
       "<tr>\n",
       "  <th>Method:</th>               <td>IRLS</td>       <th>  Log-Likelihood:    </th> <td> -13271.</td> \n",
       "</tr>\n",
       "<tr>\n",
       "  <th>Date:</th>           <td>Fri, 05 Oct 2018</td> <th>  Deviance:          </th> <td>  26541.</td> \n",
       "</tr>\n",
       "<tr>\n",
       "  <th>Time:</th>               <td>00:51:17</td>     <th>  Pearson chi2:      </th> <td>1.96e+04</td> \n",
       "</tr>\n",
       "<tr>\n",
       "  <th>No. Iterations:</th>         <td>4</td>        <th>  Covariance Type:   </th> <td>nonrobust</td>\n",
       "</tr>\n",
       "</table>\n",
       "<table class=\"simpletable\">\n",
       "<tr>\n",
       "         <td></td>            <th>coef</th>     <th>std err</th>      <th>z</th>      <th>P>|z|</th>  <th>[0.025</th>    <th>0.975]</th>  \n",
       "</tr>\n",
       "<tr>\n",
       "  <th>facility_type</th>   <td>   -0.0230</td> <td>    0.033</td> <td>   -0.704</td> <td> 0.481</td> <td>   -0.087</td> <td>    0.041</td>\n",
       "</tr>\n",
       "<tr>\n",
       "  <th>risk</th>            <td>    0.0061</td> <td>    0.026</td> <td>    0.237</td> <td> 0.812</td> <td>   -0.044</td> <td>    0.057</td>\n",
       "</tr>\n",
       "<tr>\n",
       "  <th>inspection_type</th> <td>   -0.0056</td> <td>    0.029</td> <td>   -0.194</td> <td> 0.846</td> <td>   -0.063</td> <td>    0.051</td>\n",
       "</tr>\n",
       "<tr>\n",
       "  <th>community</th>       <td>   -0.0488</td> <td>    0.009</td> <td>   -5.547</td> <td> 0.000</td> <td>   -0.066</td> <td>   -0.032</td>\n",
       "</tr>\n",
       "<tr>\n",
       "  <th>life_exp</th>        <td>    0.0004</td> <td>    0.053</td> <td>    0.007</td> <td> 0.995</td> <td>   -0.103</td> <td>    0.104</td>\n",
       "</tr>\n",
       "<tr>\n",
       "  <th>crime_rate</th>      <td>   -0.1075</td> <td>    0.031</td> <td>   -3.506</td> <td> 0.000</td> <td>   -0.168</td> <td>   -0.047</td>\n",
       "</tr>\n",
       "<tr>\n",
       "  <th>pob_density</th>     <td>   -0.0894</td> <td>    0.033</td> <td>   -2.742</td> <td> 0.006</td> <td>   -0.153</td> <td>   -0.025</td>\n",
       "</tr>\n",
       "</table>"
      ],
      "text/plain": [
       "<class 'statsmodels.iolib.summary.Summary'>\n",
       "\"\"\"\n",
       "                 Generalized Linear Model Regression Results                  \n",
       "==============================================================================\n",
       "Dep. Variable:                results   No. Observations:                19647\n",
       "Model:                            GLM   Df Residuals:                    19640\n",
       "Model Family:                Binomial   Df Model:                            6\n",
       "Link Function:                  logit   Scale:                          1.0000\n",
       "Method:                          IRLS   Log-Likelihood:                -13271.\n",
       "Date:                Fri, 05 Oct 2018   Deviance:                       26541.\n",
       "Time:                        00:51:17   Pearson chi2:                 1.96e+04\n",
       "No. Iterations:                     4   Covariance Type:             nonrobust\n",
       "===================================================================================\n",
       "                      coef    std err          z      P>|z|      [0.025      0.975]\n",
       "-----------------------------------------------------------------------------------\n",
       "facility_type      -0.0230      0.033     -0.704      0.481      -0.087       0.041\n",
       "risk                0.0061      0.026      0.237      0.812      -0.044       0.057\n",
       "inspection_type    -0.0056      0.029     -0.194      0.846      -0.063       0.051\n",
       "community          -0.0488      0.009     -5.547      0.000      -0.066      -0.032\n",
       "life_exp            0.0004      0.053      0.007      0.995      -0.103       0.104\n",
       "crime_rate         -0.1075      0.031     -3.506      0.000      -0.168      -0.047\n",
       "pob_density        -0.0894      0.033     -2.742      0.006      -0.153      -0.025\n",
       "===================================================================================\n",
       "\"\"\""
      ]
     },
     "execution_count": 244,
     "metadata": {},
     "output_type": "execute_result"
    }
   ],
   "source": [
    "import statsmodels.api as sm\n",
    "modelo = sm.GLM(y, X.astype(float), family=sm.families.Binomial())\n",
    "resultados = modelo.fit()\n",
    "resultados.summary()"
   ]
  },
  {
   "cell_type": "markdown",
   "metadata": {},
   "source": [
    "Con la información obtenida podemos darnos cuenta de varias situaciones. El valor p de la prueba z sobre los parametros, se puede aceptar que la hipotesis nula sobre la el valor de la mayoria de los parametros, o sea que su valor verdadero es cero y no tienen significancia a la hora de determinar el resultado de la variable respuesta, pero para el parametro de la variable comunidad, el de la densidad población  y la tasa de crimenes tiene suficiente significnacia estadistica para aceptar que tienen influencia sobre la variable respuesta. Por lo que haremos el ajuste con estas tres variables. Con la prueba Chi cuadrado de person podemos determinar que hay dependencia entre las variables."
   ]
  },
  {
   "cell_type": "code",
   "execution_count": 245,
   "metadata": {},
   "outputs": [
    {
     "data": {
      "text/html": [
       "<div>\n",
       "<style scoped>\n",
       "    .dataframe tbody tr th:only-of-type {\n",
       "        vertical-align: middle;\n",
       "    }\n",
       "\n",
       "    .dataframe tbody tr th {\n",
       "        vertical-align: top;\n",
       "    }\n",
       "\n",
       "    .dataframe thead th {\n",
       "        text-align: right;\n",
       "    }\n",
       "</style>\n",
       "<table border=\"1\" class=\"dataframe\">\n",
       "  <thead>\n",
       "    <tr style=\"text-align: right;\">\n",
       "      <th></th>\n",
       "      <th>community</th>\n",
       "      <th>crime_rate</th>\n",
       "      <th>pob_density</th>\n",
       "    </tr>\n",
       "  </thead>\n",
       "  <tbody>\n",
       "    <tr>\n",
       "      <th>0</th>\n",
       "      <td>5</td>\n",
       "      <td>2</td>\n",
       "      <td>1</td>\n",
       "    </tr>\n",
       "    <tr>\n",
       "      <th>2</th>\n",
       "      <td>7</td>\n",
       "      <td>1</td>\n",
       "      <td>1</td>\n",
       "    </tr>\n",
       "    <tr>\n",
       "      <th>3</th>\n",
       "      <td>2</td>\n",
       "      <td>1</td>\n",
       "      <td>2</td>\n",
       "    </tr>\n",
       "    <tr>\n",
       "      <th>5</th>\n",
       "      <td>4</td>\n",
       "      <td>0</td>\n",
       "      <td>2</td>\n",
       "    </tr>\n",
       "    <tr>\n",
       "      <th>6</th>\n",
       "      <td>3</td>\n",
       "      <td>0</td>\n",
       "      <td>2</td>\n",
       "    </tr>\n",
       "  </tbody>\n",
       "</table>\n",
       "</div>"
      ],
      "text/plain": [
       "  community crime_rate pob_density\n",
       "0         5          2           1\n",
       "2         7          1           1\n",
       "3         2          1           2\n",
       "5         4          0           2\n",
       "6         3          0           2"
      ]
     },
     "execution_count": 245,
     "metadata": {},
     "output_type": "execute_result"
    }
   ],
   "source": [
    "del X['facility_type']\n",
    "del X['risk']\n",
    "del X['inspection_type']\n",
    "del X['life_exp']\n",
    "del X['north_south']\n",
    "X.head()"
   ]
  },
  {
   "cell_type": "code",
   "execution_count": 246,
   "metadata": {},
   "outputs": [
    {
     "name": "stdout",
     "output_type": "stream",
     "text": [
      "0.5911789652247668\n",
      "[[3485    0]\n",
      " [2410    0]]\n"
     ]
    },
    {
     "data": {
      "image/png": "[encoded data removed]",
      "text/plain": [
       "<Figure size 432x288 with 2 Axes>"
      ]
     },
     "metadata": {},
     "output_type": "display_data"
    }
   ],
   "source": [
    "X_train, X_test, y_train, y_test = train_test_split(X, y, test_size = 0.30, random_state=0)\n",
    "clf = LogisticRegression(random_state=0, solver='lbfgs', multi_class='multinomial').fit(X_train, y_train)\n",
    "predicciones = clf.predict(X_test)\n",
    "cm = confusion_matrix(y_test, predicciones)\n",
    "print(clf.score(X_test, y_test))\n",
    "print(cm)\n",
    "plot_confusion_matrix(cm, [\"Pass\", \"Fail\"])"
   ]
  },
  {
   "cell_type": "code",
   "execution_count": 247,
   "metadata": {},
   "outputs": [
    {
     "data": {
      "image/png": "[encoded data removed]",
      "text/plain": [
       "<Figure size 432x288 with 1 Axes>"
      ]
     },
     "metadata": {},
     "output_type": "display_data"
    }
   ],
   "source": [
    "fpr = dict()\n",
    "tpr = dict()\n",
    "roc_auc = dict()\n",
    "y_score = clf.predict_proba(X_test)\n",
    "fpr[0], tpr[0], _ = roc_curve(y_test, y_score[:,1])\n",
    "roc_auc[0] = auc(fpr[0], tpr[0])\n",
    "plt.figure()\n",
    "lw = 2\n",
    "\n",
    "\n",
    "plt.plot(fpr[0], tpr[0], color='darkorange',\n",
    "         lw=lw, label='ROC curve (area = %0.2f)' % roc_auc[0])\n",
    "plt.plot([0, 1], [0, 1], color='navy', lw=lw, linestyle='--')\n",
    "plt.xlim([0.0, 1.0])\n",
    "plt.ylim([0.0, 1.05])\n",
    "plt.xlabel('False Positive Rate')\n",
    "plt.ylabel('True Positive Rate')\n",
    "plt.title('Receiver operating characteristic example')\n",
    "plt.legend(loc=\"lower right\")\n",
    "plt.show()"
   ]
  },
  {
   "cell_type": "markdown",
   "metadata": {},
   "source": [
    "Note que hubo una leve mejora en la curva ROC, aunque el ajuste del modelo sigue siendo muy pobre. Para finalizar se puede ver que hay cierta influencia según la comunidad, la tasa de crimenes y la densidad de población a la hora del resultado de la prueba, aunque la influencia no es mucha."
   ]
  }
 ],
 "metadata": {
  "kernelspec": {
   "display_name": "Python 3",
   "language": "python",
   "name": "python3"
  },
  "language_info": {
   "codemirror_mode": {
    "name": "ipython",
    "version": 3
   },
   "file_extension": ".py",
   "mimetype": "text/x-python",
   "name": "python",
   "nbconvert_exporter": "python",
   "pygments_lexer": "ipython3",
   "version": "3.6.5"
  }
 },
 "nbformat": 4,
 "nbformat_minor": 2
}
